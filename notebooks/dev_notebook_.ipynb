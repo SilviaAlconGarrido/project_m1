{
 "cells": [
  {
   "cell_type": "markdown",
   "id": "ce7d9907",
   "metadata": {},
   "source": [
    "### dev_notebook_\n",
    "\n",
    "This is your development environment...you may start:\n",
    "- Exploring your data.\n",
    "- Testing the ad-hoc methods.\n",
    "- Designing your pipeline."
   ]
  },
  {
   "cell_type": "code",
   "execution_count": 17,
   "id": "34f39f9b",
   "metadata": {},
   "outputs": [
    {
     "ename": "ModuleNotFoundError",
     "evalue": "No module named 'bs4'",
     "output_type": "error",
     "traceback": [
      "\u001b[0;31m---------------------------------------------------------------------------\u001b[0m",
      "\u001b[0;31mModuleNotFoundError\u001b[0m                       Traceback (most recent call last)",
      "Cell \u001b[0;32mIn[17], line 6\u001b[0m\n\u001b[1;32m      4\u001b[0m \u001b[38;5;28;01mimport\u001b[39;00m \u001b[38;5;21;01mjson\u001b[39;00m\n\u001b[1;32m      5\u001b[0m \u001b[38;5;28;01mimport\u001b[39;00m \u001b[38;5;21;01mmath\u001b[39;00m\u001b[38;5;66;03m#operacion matematica\u001b[39;00m\n\u001b[0;32m----> 6\u001b[0m \u001b[38;5;28;01mimport\u001b[39;00m \u001b[38;5;21;01mbs4\u001b[39;00m\n",
      "\u001b[0;31mModuleNotFoundError\u001b[0m: No module named 'bs4'"
     ]
    }
   ],
   "source": [
    "import requests #tenemos el json\n",
    "import pandas as pd\n",
    "import re #analiza el script para ver si esta bien\n",
    "import json\n",
    "import math#operacion matematica\n"
   ]
  },
  {
   "cell_type": "code",
   "execution_count": 19,
   "id": "7595384c",
   "metadata": {},
   "outputs": [
    {
     "ename": "NameError",
     "evalue": "name 'bs4' is not defined",
     "output_type": "error",
     "traceback": [
      "\u001b[0;31m---------------------------------------------------------------------------\u001b[0m",
      "\u001b[0;31mNameError\u001b[0m                                 Traceback (most recent call last)",
      "Cell \u001b[0;32mIn[19], line 6\u001b[0m\n\u001b[1;32m      4\u001b[0m html \u001b[38;5;241m=\u001b[39m response\u001b[38;5;241m.\u001b[39mcontent \n\u001b[1;32m      5\u001b[0m \u001b[38;5;28mlen\u001b[39m(html)\n\u001b[0;32m----> 6\u001b[0m parsed_html \u001b[38;5;241m=\u001b[39m \u001b[43mbs4\u001b[49m\u001b[38;5;241m.\u001b[39mBeautifulSoup(html, \u001b[38;5;124m'\u001b[39m\u001b[38;5;124mhtml.parser\u001b[39m\u001b[38;5;124m'\u001b[39m)\n\u001b[1;32m      7\u001b[0m parsed_html\n",
      "\u001b[0;31mNameError\u001b[0m: name 'bs4' is not defined"
     ]
    }
   ],
   "source": [
    "#api\n",
    "url_monumentos = 'https://datos.madrid.es/egob/catalogo/208844-0-monumentos-edificios.json'\n",
    "response =requests.get(url_monumentos)\n",
    "html = response.content \n",
    "len(html)\n",
    "parsed_html = bs4.BeautifulSoup(html, 'html.parser')\n",
    "parsed_html"
   ]
  },
  {
   "cell_type": "code",
   "execution_count": 7,
   "id": "e995b9f9",
   "metadata": {},
   "outputs": [
    {
     "data": {
      "text/html": [
       "<div>\n",
       "<style scoped>\n",
       "    .dataframe tbody tr th:only-of-type {\n",
       "        vertical-align: middle;\n",
       "    }\n",
       "\n",
       "    .dataframe tbody tr th {\n",
       "        vertical-align: top;\n",
       "    }\n",
       "\n",
       "    .dataframe thead th {\n",
       "        text-align: right;\n",
       "    }\n",
       "</style>\n",
       "<table border=\"1\" class=\"dataframe\">\n",
       "  <thead>\n",
       "    <tr style=\"text-align: right;\">\n",
       "      <th></th>\n",
       "      <th>\\tid\\tname\\tlight\\tnumber\\taddress\\tactivate\\tno_available\\ttotal_bases\\tdock_bikes\\tfree_bases\\treservations_count\\tgeometry.type\\tgeometry.coordinates</th>\n",
       "    </tr>\n",
       "  </thead>\n",
       "  <tbody>\n",
       "    <tr>\n",
       "      <th>0\\t1\\t1a - Puerta del Sol A\\t3\\t1a\\tPuerta del Sol nº 1\\t1\\t1\\t30\\t0\\t0\\t0\\tPoint\\t[-3.7018341</th>\n",
       "      <td>40.4172137]</td>\n",
       "    </tr>\n",
       "    <tr>\n",
       "      <th>1\\t2\\t1b - Puerta del Sol B\\t3\\t1b\\tPuerta del Sol nº 1\\t1\\t1\\t30\\t0\\t0\\t0\\tPoint\\t[-3.701602938060457</th>\n",
       "      <td>40.41731271011562]</td>\n",
       "    </tr>\n",
       "    <tr>\n",
       "      <th>2\\t3\\t2 - Miguel Moya\\t3\\t2\\tCalle Miguel Moya nº 1\\t1\\t1\\t24\\t0\\t0\\t0\\tPoint\\t[-3.7058415</th>\n",
       "      <td>40.4205886]</td>\n",
       "    </tr>\n",
       "    <tr>\n",
       "      <th>3\\t4\\t3 - Plaza Conde Suchil\\t2\\t3\\tPlaza del Conde del Valle de Súchil nº 3\\t1\\t0\\t18\\t9\\t9\\t0\\tPoint\\t[-3.7069171</th>\n",
       "      <td>40.4302937]</td>\n",
       "    </tr>\n",
       "    <tr>\n",
       "      <th>4\\t5\\t4 - Malasaña\\t1\\t4\\tCalle Manuela Malasaña nº 5\\t1\\t0\\t24\\t23\\t1\\t0\\tPoint\\t[-3.7025875</th>\n",
       "      <td>40.4285524]</td>\n",
       "    </tr>\n",
       "    <tr>\n",
       "      <th>...</th>\n",
       "      <td>...</td>\n",
       "    </tr>\n",
       "    <tr>\n",
       "      <th>259\\t265\\t257 - INEF\\t0\\t257\\tAvenida Juan de Herrera frente a la calle Paul Guinard\\t1\\t0\\t24\\t3\\t19\\t0\\tPoint\\t[-3.72997</th>\n",
       "      <td>40.43896]</td>\n",
       "    </tr>\n",
       "    <tr>\n",
       "      <th>260\\t266\\t258 - Ciudad Universitaria 1\\t2\\t258\\tAvenida de la Complutense (Metro Ciudad Universitaria)\\t1\\t0\\t24\\t9\\t14\\t0\\tPoint\\t[-3.72699</th>\n",
       "      <td>40.44375]</td>\n",
       "    </tr>\n",
       "    <tr>\n",
       "      <th>261\\t267\\t259 - Ciudad Universitaria 2\\t2\\t259\\tAvenida de la Complutense (Metro Ciudad Universitaria)\\t1\\t0\\t24\\t12\\t10\\t0\\tPoint\\t[-3.72693</th>\n",
       "      <td>40.44342]</td>\n",
       "    </tr>\n",
       "    <tr>\n",
       "      <th>262\\t268\\t260 - Facultad Biología\\t2\\t260\\tCalle José Antonio Novais frente al nº 12\\t1\\t0\\t24\\t12\\t10\\t0\\tPoint\\t[-3.7272945</th>\n",
       "      <td>40.4483322]</td>\n",
       "    </tr>\n",
       "    <tr>\n",
       "      <th>263\\t269\\t261 - Facultad Derecho\\t2\\t261\\tAvenida Complutense nº 23\\t1\\t0\\t24\\t8\\t16\\t0\\tPoint\\t[-3.72937</th>\n",
       "      <td>40.45109]</td>\n",
       "    </tr>\n",
       "  </tbody>\n",
       "</table>\n",
       "<p>264 rows × 1 columns</p>\n",
       "</div>"
      ],
      "text/plain": [
       "                                                   \\tid\\tname\\tlight\\tnumber\\taddress\\tactivate\\tno_available\\ttotal_bases\\tdock_bikes\\tfree_bases\\treservations_count\\tgeometry.type\\tgeometry.coordinates\n",
       "0\\t1\\t1a - Puerta del Sol A\\t3\\t1a\\tPuerta del ...                                        40.4172137]                                                                                                      \n",
       "1\\t2\\t1b - Puerta del Sol B\\t3\\t1b\\tPuerta del ...                                 40.41731271011562]                                                                                                      \n",
       "2\\t3\\t2 - Miguel Moya\\t3\\t2\\tCalle Miguel Moya ...                                        40.4205886]                                                                                                      \n",
       "3\\t4\\t3 - Plaza Conde Suchil\\t2\\t3\\tPlaza del C...                                        40.4302937]                                                                                                      \n",
       "4\\t5\\t4 - Malasaña\\t1\\t4\\tCalle Manuela Malasañ...                                        40.4285524]                                                                                                      \n",
       "...                                                                                               ...                                                                                                      \n",
       "259\\t265\\t257 - INEF\\t0\\t257\\tAvenida Juan de H...                                          40.43896]                                                                                                      \n",
       "260\\t266\\t258 - Ciudad Universitaria 1\\t2\\t258\\...                                          40.44375]                                                                                                      \n",
       "261\\t267\\t259 - Ciudad Universitaria 2\\t2\\t259\\...                                          40.44342]                                                                                                      \n",
       "262\\t268\\t260 - Facultad Biología\\t2\\t260\\tCall...                                        40.4483322]                                                                                                      \n",
       "263\\t269\\t261 - Facultad Derecho\\t2\\t261\\tAveni...                                          40.45109]                                                                                                      \n",
       "\n",
       "[264 rows x 1 columns]"
      ]
     },
     "execution_count": 7,
     "metadata": {},
     "output_type": "execute_result"
    }
   ],
   "source": [
    "path_1 = '../data/bicimad_stations.csv'\n",
    "bicimad_stations = pd.read_csv(path_1)\n",
    "bicimad_stations"
   ]
  },
  {
   "cell_type": "code",
   "execution_count": 13,
   "id": "5e550d26",
   "metadata": {},
   "outputs": [
    {
     "ename": "NameError",
     "evalue": "name 'filepath_or_buffer' is not defined",
     "output_type": "error",
     "traceback": [
      "\u001b[0;31m---------------------------------------------------------------------------\u001b[0m",
      "\u001b[0;31mNameError\u001b[0m                                 Traceback (most recent call last)",
      "Cell \u001b[0;32mIn[13], line 2\u001b[0m\n\u001b[1;32m      1\u001b[0m path_2 \u001b[38;5;241m=\u001b[39m \u001b[38;5;124m'\u001b[39m\u001b[38;5;124m../data/bicipark_stations.csv\u001b[39m\u001b[38;5;124m'\u001b[39m\n\u001b[0;32m----> 2\u001b[0m bicipark_stations \u001b[38;5;241m=\u001b[39m pd\u001b[38;5;241m.\u001b[39mread_csv(\u001b[43mfilepath_or_buffer\u001b[49m)\n\u001b[1;32m      3\u001b[0m bicipark_stations\n",
      "\u001b[0;31mNameError\u001b[0m: name 'filepath_or_buffer' is not defined"
     ]
    }
   ],
   "source": [
    "path_2 = '../data/bicipark_stations.csv'\n",
    "bicipark_stations = pd.read_csv(filepath_or_buffer)\n",
    "bicipark_stations"
   ]
  },
  {
   "cell_type": "code",
   "execution_count": null,
   "id": "0c886007",
   "metadata": {},
   "outputs": [],
   "source": []
  }
 ],
 "metadata": {
  "kernelspec": {
   "display_name": "Python pm1",
   "language": "python",
   "name": "pm1"
  },
  "language_info": {
   "codemirror_mode": {
    "name": "ipython",
    "version": 3
   },
   "file_extension": ".py",
   "mimetype": "text/x-python",
   "name": "python",
   "nbconvert_exporter": "python",
   "pygments_lexer": "ipython3",
   "version": "3.9.18"
  }
 },
 "nbformat": 4,
 "nbformat_minor": 5
}
